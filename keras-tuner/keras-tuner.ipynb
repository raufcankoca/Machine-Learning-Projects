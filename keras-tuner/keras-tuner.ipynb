{
 "cells": [
  {
   "cell_type": "markdown",
   "id": "e0535d01",
   "metadata": {},
   "source": [
    "## Introduction to the Keras Tuner\n",
    "\n",
    "\n",
    "**Overview**\n",
    "\n",
    "**The Keras Tuner is a library that helps you pick the optimal set of hyperparameters for your TensorFlow program. The process of selecting the right set of hyperparameters for your machine learning (ML) application is called hyperparameter tuning or hypertuning.**\n",
    "\n",
    "**Hyperparameters are the variables that govern the training process and the topology of an ML model. These variables remain constant over the training process and directly impact the performance of your ML program. Hyperparameters are of two types:**\n",
    "\n",
    "**Model hyperparameters which influence model selection such as the number and width of hidden layers\n",
    "Algorithm hyperparameters which influence the speed and quality of the learning algorithm such as the learning rate for Stochastic Gradient Descent (SGD) and the number of nearest neighbors for a k Nearest Neighbors (KNN) classifier.**"
   ]
  },
  {
   "cell_type": "code",
   "execution_count": 1,
   "id": "2fa57317",
   "metadata": {},
   "outputs": [],
   "source": [
    "import tensorflow as tf\n",
    "from tensorflow import keras\n",
    "import keras_tuner as kt"
   ]
  },
  {
   "cell_type": "code",
   "execution_count": 2,
   "id": "cb78de62",
   "metadata": {},
   "outputs": [],
   "source": [
    "# Load the MNIST dataset\n",
    "(img_train, label_train), (img_test, label_test) = keras.datasets.mnist.load_data()"
   ]
  },
  {
   "cell_type": "code",
   "execution_count": 3,
   "id": "807cc893",
   "metadata": {},
   "outputs": [
    {
     "name": "stdout",
     "output_type": "stream",
     "text": [
      "(60000, 28, 28)\n",
      "(60000,)\n",
      "(10000, 28, 28)\n",
      "(10000,)\n"
     ]
    }
   ],
   "source": [
    "print(img_train.shape)\n",
    "print(label_train.shape)\n",
    "print(img_test.shape)\n",
    "print(label_test.shape)"
   ]
  },
  {
   "cell_type": "code",
   "execution_count": 4,
   "id": "84a22107",
   "metadata": {},
   "outputs": [],
   "source": [
    "# Normalize pixel values between 0 and 1\n",
    "img_train = img_train.astype('float32') / 255.0\n",
    "img_test = img_test.astype('float32') / 255.0"
   ]
  },
  {
   "cell_type": "code",
   "execution_count": 6,
   "id": "5aea058c",
   "metadata": {},
   "outputs": [],
   "source": [
    "def model_builder(hp):\n",
    "    model = keras.Sequential()\n",
    "    model.add(keras.layers.Flatten(input_shape=(28, 28)))\n",
    "\n",
    "    # Tune the number of units in the first Dense layer\n",
    "    # Choose an optimal value between 32-512\n",
    "    hp_units = hp.Int('units', min_value=32, max_value=512, step=32)\n",
    "    model.add(keras.layers.Dense(units=hp_units, activation='relu'))\n",
    "    model.add(keras.layers.Dense(10))\n",
    "\n",
    "    # Tune the learning rate for the optimizer\n",
    "    # Choose an optimal value from 0.01, 0.001, or 0.0001\n",
    "    hp_learning_rate = hp.Choice('learning_rate', values=[1e-2, 1e-3, 1e-4])\n",
    "\n",
    "    model.compile(optimizer=keras.optimizers.Adam(learning_rate=hp_learning_rate),\n",
    "                    loss=keras.losses.SparseCategoricalCrossentropy(from_logits=True),\n",
    "                    metrics=['accuracy'])\n",
    "\n",
    "    return model"
   ]
  },
  {
   "cell_type": "code",
   "execution_count": 7,
   "id": "dd9d7909",
   "metadata": {},
   "outputs": [],
   "source": [
    "tuner = kt.Hyperband(model_builder,\n",
    "                     objective='val_accuracy',\n",
    "                     max_epochs=10,\n",
    "                     factor=3,\n",
    "                     directory='my_dir',\n",
    "                     project_name='intro_to_kt')"
   ]
  },
  {
   "cell_type": "code",
   "execution_count": 8,
   "id": "6567f320",
   "metadata": {},
   "outputs": [],
   "source": [
    "# Hyperband algorithm should be used with EarlyStopping\n",
    "stop_early = tf.keras.callbacks.EarlyStopping(monitor='val_loss', patience=5)"
   ]
  },
  {
   "cell_type": "code",
   "execution_count": 9,
   "id": "1210b33e",
   "metadata": {},
   "outputs": [
    {
     "name": "stdout",
     "output_type": "stream",
     "text": [
      "Trial 30 Complete [00h 00m 40s]\n",
      "val_accuracy: 0.9779999852180481\n",
      "\n",
      "Best val_accuracy So Far: 0.9799166917800903\n",
      "Total elapsed time: 00h 10m 05s\n",
      "INFO:tensorflow:Oracle triggered exit\n"
     ]
    }
   ],
   "source": [
    "tuner.search(img_train, label_train, epochs=50, validation_split=0.2, callbacks=[stop_early])"
   ]
  },
  {
   "cell_type": "code",
   "execution_count": 10,
   "id": "c968dfa6",
   "metadata": {},
   "outputs": [
    {
     "name": "stdout",
     "output_type": "stream",
     "text": [
      "\n",
      "The hyperparameter search is complete. The optimal number of units in the first densely-connected\n",
      "layer is 512 and the optimal learning rate for the optimizer\n",
      "is 0.001.\n",
      "\n"
     ]
    }
   ],
   "source": [
    "# Get the optimal hyperparameters\n",
    "best_hps=tuner.get_best_hyperparameters(num_trials=1)[0]\n",
    "\n",
    "print(f\"\"\"\n",
    "The hyperparameter search is complete. The optimal number of units in the first densely-connected\n",
    "layer is {best_hps.get('units')} and the optimal learning rate for the optimizer\n",
    "is {best_hps.get('learning_rate')}.\n",
    "\"\"\")"
   ]
  },
  {
   "cell_type": "code",
   "execution_count": 21,
   "id": "e200d123",
   "metadata": {},
   "outputs": [
    {
     "data": {
      "text/plain": [
       "{'space': [{'class_name': 'Int',\n",
       "   'config': {'name': 'units',\n",
       "    'default': None,\n",
       "    'conditions': [],\n",
       "    'min_value': 32,\n",
       "    'max_value': 512,\n",
       "    'step': 32,\n",
       "    'sampling': 'linear'}},\n",
       "  {'class_name': 'Choice',\n",
       "   'config': {'name': 'learning_rate',\n",
       "    'default': 0.01,\n",
       "    'conditions': [],\n",
       "    'values': [0.01, 0.001, 0.0001],\n",
       "    'ordered': True}}],\n",
       " 'values': {'units': 512,\n",
       "  'learning_rate': 0.001,\n",
       "  'tuner/epochs': 10,\n",
       "  'tuner/initial_epoch': 4,\n",
       "  'tuner/bracket': 2,\n",
       "  'tuner/round': 2,\n",
       "  'tuner/trial_id': '0013'}}"
      ]
     },
     "execution_count": 21,
     "metadata": {},
     "output_type": "execute_result"
    }
   ],
   "source": [
    "best_hps.get_config()"
   ]
  },
  {
   "cell_type": "code",
   "execution_count": 22,
   "id": "3e1cb284",
   "metadata": {},
   "outputs": [
    {
     "data": {
      "text/plain": [
       "{'units': 512,\n",
       " 'learning_rate': 0.001,\n",
       " 'tuner/epochs': 10,\n",
       " 'tuner/initial_epoch': 4,\n",
       " 'tuner/bracket': 2,\n",
       " 'tuner/round': 2,\n",
       " 'tuner/trial_id': '0013'}"
      ]
     },
     "execution_count": 22,
     "metadata": {},
     "output_type": "execute_result"
    }
   ],
   "source": [
    "best_hps.values"
   ]
  },
  {
   "cell_type": "code",
   "execution_count": 18,
   "id": "aaaf03a8",
   "metadata": {
    "scrolled": false
   },
   "outputs": [
    {
     "name": "stdout",
     "output_type": "stream",
     "text": [
      "Epoch 1/50\n",
      "1500/1500 [==============================] - 4s 3ms/step - loss: 0.2387 - accuracy: 0.9295 - val_loss: 0.1236 - val_accuracy: 0.9647\n",
      "Epoch 2/50\n",
      "1500/1500 [==============================] - 4s 3ms/step - loss: 0.0982 - accuracy: 0.9707 - val_loss: 0.1011 - val_accuracy: 0.9718\n",
      "Epoch 3/50\n",
      "1500/1500 [==============================] - 4s 3ms/step - loss: 0.0657 - accuracy: 0.9796 - val_loss: 0.0876 - val_accuracy: 0.9733\n",
      "Epoch 4/50\n",
      "1500/1500 [==============================] - 4s 3ms/step - loss: 0.0448 - accuracy: 0.9861 - val_loss: 0.0851 - val_accuracy: 0.9761\n",
      "Epoch 5/50\n",
      "1500/1500 [==============================] - 4s 3ms/step - loss: 0.0320 - accuracy: 0.9900 - val_loss: 0.0821 - val_accuracy: 0.9767\n",
      "Epoch 6/50\n",
      "1500/1500 [==============================] - 5s 3ms/step - loss: 0.0242 - accuracy: 0.9924 - val_loss: 0.0799 - val_accuracy: 0.9779\n",
      "Epoch 7/50\n",
      "1500/1500 [==============================] - 5s 3ms/step - loss: 0.0192 - accuracy: 0.9940 - val_loss: 0.0853 - val_accuracy: 0.9772\n",
      "Epoch 8/50\n",
      "1500/1500 [==============================] - 4s 3ms/step - loss: 0.0152 - accuracy: 0.9952 - val_loss: 0.0869 - val_accuracy: 0.9786\n",
      "Epoch 9/50\n",
      "1500/1500 [==============================] - 4s 3ms/step - loss: 0.0116 - accuracy: 0.9964 - val_loss: 0.0902 - val_accuracy: 0.9784\n",
      "Epoch 10/50\n",
      "1500/1500 [==============================] - 4s 3ms/step - loss: 0.0107 - accuracy: 0.9965 - val_loss: 0.0943 - val_accuracy: 0.9774\n",
      "Epoch 11/50\n",
      "1500/1500 [==============================] - 4s 3ms/step - loss: 0.0096 - accuracy: 0.9970 - val_loss: 0.0951 - val_accuracy: 0.9794\n",
      "Epoch 12/50\n",
      "1500/1500 [==============================] - 4s 2ms/step - loss: 0.0086 - accuracy: 0.9975 - val_loss: 0.0922 - val_accuracy: 0.9799\n",
      "Epoch 13/50\n",
      "1500/1500 [==============================] - 4s 3ms/step - loss: 0.0095 - accuracy: 0.9968 - val_loss: 0.1092 - val_accuracy: 0.9778\n",
      "Epoch 14/50\n",
      "1500/1500 [==============================] - 4s 3ms/step - loss: 0.0043 - accuracy: 0.9987 - val_loss: 0.1083 - val_accuracy: 0.9793\n",
      "Epoch 15/50\n",
      "1500/1500 [==============================] - 4s 3ms/step - loss: 0.0070 - accuracy: 0.9978 - val_loss: 0.1279 - val_accuracy: 0.9765\n",
      "Epoch 16/50\n",
      "1500/1500 [==============================] - 4s 3ms/step - loss: 0.0060 - accuracy: 0.9980 - val_loss: 0.1230 - val_accuracy: 0.9777\n",
      "Epoch 17/50\n",
      "1500/1500 [==============================] - 4s 3ms/step - loss: 0.0058 - accuracy: 0.9982 - val_loss: 0.1215 - val_accuracy: 0.9780\n",
      "Epoch 18/50\n",
      "1500/1500 [==============================] - 4s 3ms/step - loss: 0.0067 - accuracy: 0.9980 - val_loss: 0.1110 - val_accuracy: 0.9797\n",
      "Epoch 19/50\n",
      "1500/1500 [==============================] - 4s 3ms/step - loss: 0.0031 - accuracy: 0.9992 - val_loss: 0.1378 - val_accuracy: 0.9762\n",
      "Epoch 20/50\n",
      "1500/1500 [==============================] - 4s 3ms/step - loss: 0.0067 - accuracy: 0.9979 - val_loss: 0.1187 - val_accuracy: 0.9801\n",
      "Epoch 21/50\n",
      "1500/1500 [==============================] - 4s 3ms/step - loss: 0.0057 - accuracy: 0.9981 - val_loss: 0.1390 - val_accuracy: 0.9781\n",
      "Epoch 22/50\n",
      "1500/1500 [==============================] - 4s 3ms/step - loss: 0.0046 - accuracy: 0.9985 - val_loss: 0.1526 - val_accuracy: 0.9773\n",
      "Epoch 23/50\n",
      "1500/1500 [==============================] - 4s 3ms/step - loss: 0.0044 - accuracy: 0.9982 - val_loss: 0.1354 - val_accuracy: 0.9789\n",
      "Epoch 24/50\n",
      "1500/1500 [==============================] - 4s 3ms/step - loss: 0.0048 - accuracy: 0.9984 - val_loss: 0.1257 - val_accuracy: 0.9790\n",
      "Epoch 25/50\n",
      "1500/1500 [==============================] - 4s 3ms/step - loss: 0.0047 - accuracy: 0.9986 - val_loss: 0.1485 - val_accuracy: 0.9758\n",
      "Epoch 26/50\n",
      "1500/1500 [==============================] - 4s 3ms/step - loss: 0.0042 - accuracy: 0.9988 - val_loss: 0.1430 - val_accuracy: 0.9802\n",
      "Epoch 27/50\n",
      "1500/1500 [==============================] - 4s 3ms/step - loss: 0.0036 - accuracy: 0.9988 - val_loss: 0.1497 - val_accuracy: 0.9775\n",
      "Epoch 28/50\n",
      "1500/1500 [==============================] - 4s 3ms/step - loss: 0.0032 - accuracy: 0.9988 - val_loss: 0.1560 - val_accuracy: 0.9784\n",
      "Epoch 29/50\n",
      "1500/1500 [==============================] - 4s 3ms/step - loss: 0.0056 - accuracy: 0.9983 - val_loss: 0.1466 - val_accuracy: 0.9787\n",
      "Epoch 30/50\n",
      "1500/1500 [==============================] - 4s 3ms/step - loss: 0.0023 - accuracy: 0.9994 - val_loss: 0.1453 - val_accuracy: 0.9796\n",
      "Epoch 31/50\n",
      "1500/1500 [==============================] - 4s 3ms/step - loss: 0.0062 - accuracy: 0.9980 - val_loss: 0.1599 - val_accuracy: 0.9787\n",
      "Epoch 32/50\n",
      "1500/1500 [==============================] - 4s 3ms/step - loss: 0.0041 - accuracy: 0.9987 - val_loss: 0.1805 - val_accuracy: 0.9746\n",
      "Epoch 33/50\n",
      "1500/1500 [==============================] - 4s 3ms/step - loss: 0.0021 - accuracy: 0.9994 - val_loss: 0.1530 - val_accuracy: 0.9789\n",
      "Epoch 34/50\n",
      "1500/1500 [==============================] - 5s 3ms/step - loss: 0.0042 - accuracy: 0.9987 - val_loss: 0.1542 - val_accuracy: 0.9793\n",
      "Epoch 35/50\n",
      "1500/1500 [==============================] - 4s 3ms/step - loss: 0.0029 - accuracy: 0.9991 - val_loss: 0.1750 - val_accuracy: 0.9789\n",
      "Epoch 36/50\n",
      "1500/1500 [==============================] - 4s 3ms/step - loss: 0.0048 - accuracy: 0.9987 - val_loss: 0.1646 - val_accuracy: 0.9796\n",
      "Epoch 37/50\n",
      "1500/1500 [==============================] - 4s 3ms/step - loss: 0.0031 - accuracy: 0.9991 - val_loss: 0.1888 - val_accuracy: 0.9793\n",
      "Epoch 38/50\n",
      "1500/1500 [==============================] - 4s 3ms/step - loss: 0.0056 - accuracy: 0.9986 - val_loss: 0.1662 - val_accuracy: 0.9807\n",
      "Epoch 39/50\n",
      "1500/1500 [==============================] - 4s 3ms/step - loss: 0.0049 - accuracy: 0.9985 - val_loss: 0.1928 - val_accuracy: 0.9768\n",
      "Epoch 40/50\n",
      "1500/1500 [==============================] - 4s 3ms/step - loss: 0.0021 - accuracy: 0.9994 - val_loss: 0.1703 - val_accuracy: 0.9764\n",
      "Epoch 41/50\n",
      "1500/1500 [==============================] - 4s 3ms/step - loss: 0.0045 - accuracy: 0.9986 - val_loss: 0.1807 - val_accuracy: 0.9794\n",
      "Epoch 42/50\n",
      "1500/1500 [==============================] - 4s 3ms/step - loss: 0.0022 - accuracy: 0.9992 - val_loss: 0.1628 - val_accuracy: 0.9805\n",
      "Epoch 43/50\n",
      "1500/1500 [==============================] - 4s 3ms/step - loss: 0.0032 - accuracy: 0.9990 - val_loss: 0.1622 - val_accuracy: 0.9803\n",
      "Epoch 44/50\n",
      "1500/1500 [==============================] - 4s 3ms/step - loss: 0.0018 - accuracy: 0.9995 - val_loss: 0.1576 - val_accuracy: 0.9805\n",
      "Epoch 45/50\n",
      "1500/1500 [==============================] - 4s 3ms/step - loss: 0.0019 - accuracy: 0.9995 - val_loss: 0.1845 - val_accuracy: 0.9792\n",
      "Epoch 46/50\n",
      "1500/1500 [==============================] - 4s 3ms/step - loss: 0.0028 - accuracy: 0.9990 - val_loss: 0.1727 - val_accuracy: 0.9795\n",
      "Epoch 47/50\n",
      "1500/1500 [==============================] - 4s 3ms/step - loss: 0.0035 - accuracy: 0.9990 - val_loss: 0.1874 - val_accuracy: 0.9797\n",
      "Epoch 48/50\n",
      "1500/1500 [==============================] - 4s 3ms/step - loss: 0.0017 - accuracy: 0.9995 - val_loss: 0.1836 - val_accuracy: 0.9798\n",
      "Epoch 49/50\n",
      "1500/1500 [==============================] - 4s 3ms/step - loss: 0.0037 - accuracy: 0.9987 - val_loss: 0.2226 - val_accuracy: 0.9750\n",
      "Epoch 50/50\n",
      "1500/1500 [==============================] - 4s 3ms/step - loss: 0.0032 - accuracy: 0.9990 - val_loss: 0.1846 - val_accuracy: 0.9788\n",
      "Best epoch: 38\n"
     ]
    }
   ],
   "source": [
    "# Build the model with the optimal hyperparameters and train it on the data for 50 epochs\n",
    "model = tuner.hypermodel.build(best_hps)\n",
    "history = model.fit(img_train, label_train, epochs=10, validation_split=0.2)\n",
    "\n",
    "val_acc_per_epoch = history.history['val_accuracy']\n",
    "best_epoch = val_acc_per_epoch.index(max(val_acc_per_epoch)) + 1\n",
    "print('Best epoch: %d' % (best_epoch,))"
   ]
  },
  {
   "cell_type": "code",
   "execution_count": 19,
   "id": "23f40d09",
   "metadata": {
    "scrolled": false
   },
   "outputs": [
    {
     "name": "stdout",
     "output_type": "stream",
     "text": [
      "Epoch 1/38\n",
      "1500/1500 [==============================] - 4s 3ms/step - loss: 0.2405 - accuracy: 0.9312 - val_loss: 0.1333 - val_accuracy: 0.9621\n",
      "Epoch 2/38\n",
      "1500/1500 [==============================] - 4s 3ms/step - loss: 0.0998 - accuracy: 0.9704 - val_loss: 0.0956 - val_accuracy: 0.9719\n",
      "Epoch 3/38\n",
      "1500/1500 [==============================] - 4s 3ms/step - loss: 0.0644 - accuracy: 0.9803 - val_loss: 0.0882 - val_accuracy: 0.9749\n",
      "Epoch 4/38\n",
      "1500/1500 [==============================] - 4s 3ms/step - loss: 0.0446 - accuracy: 0.9862 - val_loss: 0.0845 - val_accuracy: 0.9753\n",
      "Epoch 5/38\n",
      "1500/1500 [==============================] - 4s 3ms/step - loss: 0.0341 - accuracy: 0.9896 - val_loss: 0.0854 - val_accuracy: 0.9753\n",
      "Epoch 6/38\n",
      "1500/1500 [==============================] - 4s 3ms/step - loss: 0.0252 - accuracy: 0.9920 - val_loss: 0.0918 - val_accuracy: 0.9747\n",
      "Epoch 7/38\n",
      "1500/1500 [==============================] - 4s 3ms/step - loss: 0.0201 - accuracy: 0.9934 - val_loss: 0.0913 - val_accuracy: 0.9760\n",
      "Epoch 8/38\n",
      "1500/1500 [==============================] - 4s 3ms/step - loss: 0.0156 - accuracy: 0.9949 - val_loss: 0.0874 - val_accuracy: 0.9787\n",
      "Epoch 9/38\n",
      "1500/1500 [==============================] - 4s 3ms/step - loss: 0.0121 - accuracy: 0.9962 - val_loss: 0.0856 - val_accuracy: 0.9785\n",
      "Epoch 10/38\n",
      "1500/1500 [==============================] - 4s 3ms/step - loss: 0.0120 - accuracy: 0.9962 - val_loss: 0.1002 - val_accuracy: 0.9763\n",
      "Epoch 11/38\n",
      "1500/1500 [==============================] - 4s 3ms/step - loss: 0.0084 - accuracy: 0.9970 - val_loss: 0.0916 - val_accuracy: 0.9787\n",
      "Epoch 12/38\n",
      "1500/1500 [==============================] - 4s 3ms/step - loss: 0.0097 - accuracy: 0.9968 - val_loss: 0.0988 - val_accuracy: 0.9790\n",
      "Epoch 13/38\n",
      "1500/1500 [==============================] - 4s 3ms/step - loss: 0.0081 - accuracy: 0.9974 - val_loss: 0.0947 - val_accuracy: 0.9800\n",
      "Epoch 14/38\n",
      "1500/1500 [==============================] - 4s 3ms/step - loss: 0.0068 - accuracy: 0.9980 - val_loss: 0.1180 - val_accuracy: 0.9764\n",
      "Epoch 15/38\n",
      "1500/1500 [==============================] - 4s 3ms/step - loss: 0.0060 - accuracy: 0.9982 - val_loss: 0.1064 - val_accuracy: 0.9782\n",
      "Epoch 16/38\n",
      "1500/1500 [==============================] - 4s 3ms/step - loss: 0.0056 - accuracy: 0.9984 - val_loss: 0.1252 - val_accuracy: 0.9774\n",
      "Epoch 17/38\n",
      "1500/1500 [==============================] - 4s 3ms/step - loss: 0.0081 - accuracy: 0.9973 - val_loss: 0.1103 - val_accuracy: 0.9791\n",
      "Epoch 18/38\n",
      "1500/1500 [==============================] - 4s 3ms/step - loss: 0.0053 - accuracy: 0.9982 - val_loss: 0.1140 - val_accuracy: 0.9788\n",
      "Epoch 19/38\n",
      "1500/1500 [==============================] - 4s 3ms/step - loss: 0.0048 - accuracy: 0.9984 - val_loss: 0.1204 - val_accuracy: 0.9796\n",
      "Epoch 20/38\n",
      "1500/1500 [==============================] - 4s 3ms/step - loss: 0.0046 - accuracy: 0.9985 - val_loss: 0.1268 - val_accuracy: 0.9778\n",
      "Epoch 21/38\n",
      "1500/1500 [==============================] - 4s 3ms/step - loss: 0.0053 - accuracy: 0.9984 - val_loss: 0.1188 - val_accuracy: 0.9791\n",
      "Epoch 22/38\n",
      "1500/1500 [==============================] - 4s 3ms/step - loss: 0.0051 - accuracy: 0.9982 - val_loss: 0.1313 - val_accuracy: 0.9790\n",
      "Epoch 23/38\n",
      "1500/1500 [==============================] - 4s 3ms/step - loss: 0.0057 - accuracy: 0.9979 - val_loss: 0.1312 - val_accuracy: 0.9770\n",
      "Epoch 24/38\n",
      "1500/1500 [==============================] - 4s 3ms/step - loss: 0.0030 - accuracy: 0.9990 - val_loss: 0.1604 - val_accuracy: 0.9754\n",
      "Epoch 25/38\n",
      "1500/1500 [==============================] - 4s 3ms/step - loss: 0.0043 - accuracy: 0.9986 - val_loss: 0.1359 - val_accuracy: 0.9797\n",
      "Epoch 26/38\n",
      "1500/1500 [==============================] - 4s 3ms/step - loss: 0.0041 - accuracy: 0.9988 - val_loss: 0.1334 - val_accuracy: 0.9792\n",
      "Epoch 27/38\n",
      "1500/1500 [==============================] - 4s 3ms/step - loss: 0.0023 - accuracy: 0.9993 - val_loss: 0.1427 - val_accuracy: 0.9803\n",
      "Epoch 28/38\n",
      "1500/1500 [==============================] - 4s 3ms/step - loss: 0.0071 - accuracy: 0.9980 - val_loss: 0.1461 - val_accuracy: 0.9785\n",
      "Epoch 29/38\n",
      "1500/1500 [==============================] - 4s 3ms/step - loss: 0.0028 - accuracy: 0.9991 - val_loss: 0.1391 - val_accuracy: 0.9807\n",
      "Epoch 30/38\n",
      "1500/1500 [==============================] - 4s 3ms/step - loss: 0.0042 - accuracy: 0.9987 - val_loss: 0.1617 - val_accuracy: 0.9773\n",
      "Epoch 31/38\n",
      "1500/1500 [==============================] - 4s 3ms/step - loss: 0.0050 - accuracy: 0.9982 - val_loss: 0.1590 - val_accuracy: 0.9787\n",
      "Epoch 32/38\n",
      "1500/1500 [==============================] - 4s 3ms/step - loss: 0.0026 - accuracy: 0.9992 - val_loss: 0.1481 - val_accuracy: 0.9798\n",
      "Epoch 33/38\n",
      "1500/1500 [==============================] - 5s 3ms/step - loss: 0.0054 - accuracy: 0.9984 - val_loss: 0.1570 - val_accuracy: 0.9779\n",
      "Epoch 34/38\n",
      "1500/1500 [==============================] - 4s 3ms/step - loss: 0.0034 - accuracy: 0.9989 - val_loss: 0.1684 - val_accuracy: 0.9782\n",
      "Epoch 35/38\n",
      "1500/1500 [==============================] - 4s 3ms/step - loss: 0.0031 - accuracy: 0.9988 - val_loss: 0.1512 - val_accuracy: 0.9808\n",
      "Epoch 36/38\n",
      "1500/1500 [==============================] - 4s 3ms/step - loss: 0.0035 - accuracy: 0.9988 - val_loss: 0.1691 - val_accuracy: 0.9783\n",
      "Epoch 37/38\n",
      "1500/1500 [==============================] - 4s 3ms/step - loss: 0.0036 - accuracy: 0.9988 - val_loss: 0.1654 - val_accuracy: 0.9801\n",
      "Epoch 38/38\n",
      "1500/1500 [==============================] - 4s 3ms/step - loss: 0.0021 - accuracy: 0.9996 - val_loss: 0.1982 - val_accuracy: 0.9762\n"
     ]
    },
    {
     "data": {
      "text/plain": [
       "<keras.callbacks.History at 0x23d14104190>"
      ]
     },
     "execution_count": 19,
     "metadata": {},
     "output_type": "execute_result"
    }
   ],
   "source": [
    "hypermodel = tuner.hypermodel.build(best_hps)\n",
    "\n",
    "# Retrain the model\n",
    "history2 = hypermodel.fit(img_train, label_train, epochs=best_epoch, validation_split=0.2)"
   ]
  }
 ],
 "metadata": {
  "kernelspec": {
   "display_name": "TENSORFLOW_KERNEL",
   "language": "python",
   "name": "tensorflow_env"
  },
  "language_info": {
   "codemirror_mode": {
    "name": "ipython",
    "version": 3
   },
   "file_extension": ".py",
   "mimetype": "text/x-python",
   "name": "python",
   "nbconvert_exporter": "python",
   "pygments_lexer": "ipython3",
   "version": "3.9.15"
  }
 },
 "nbformat": 4,
 "nbformat_minor": 5
}
